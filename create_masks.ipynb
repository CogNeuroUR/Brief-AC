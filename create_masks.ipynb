{
 "cells": [
  {
   "cell_type": "code",
   "execution_count": 1,
   "metadata": {},
   "outputs": [
    {
     "data": {
      "text/plain": [
       "<module 'utils' from '/mnt/Data/CogNeuroUR/Repositories/ActionsInContext/ainc_experiments/Brief-AC/utils.py'>"
      ]
     },
     "execution_count": 1,
     "metadata": {},
     "output_type": "execute_result"
    }
   ],
   "source": [
    "import importlib\n",
    "from pathlib import Path\n",
    "import random\n",
    "from tqdm import tqdm\n",
    "\n",
    "import cv2\n",
    "import numpy as np\n",
    "from scipy import ndimage\n",
    "\n",
    "import utils\n",
    "importlib.reload(utils)"
   ]
  },
  {
   "cell_type": "code",
   "execution_count": 2,
   "metadata": {},
   "outputs": [],
   "source": [
    "def make_masks_across(l_files, tw, th=None, outdir='.'):\n",
    "    \"\"\"\n",
    "    Given a list of picture files, creates masks by:\n",
    "        (1) tiling the image,\n",
    "        (2) shuffling tile order and\n",
    "        (3) randomly rotating each tile (0, 90, 180 or 270 degrees).\n",
    "    \n",
    "    Parameters\n",
    "    ==========\n",
    "    l_files : list\n",
    "        List of picture file names.\n",
    "    tw : int\n",
    "        Tile width\n",
    "    th : int or None\n",
    "        Tile height. If None, then will be equal to \"tw\".\n",
    "    \"\"\"\n",
    "    # If tile height not given, equal to given tile width\n",
    "    if not th:\n",
    "        th = tw\n",
    "        \n",
    "    # TODO check if tiles are compatible with shape\n",
    "\n",
    "    # check if out dir exists\n",
    "    utils.check_mkdir(outdir)\n",
    "\n",
    "    # 1) Collect tiles from all target pictures TOGETHER\n",
    "    l_tiles = []\n",
    "    i_tilen = 0\n",
    "    \n",
    "    # iterate over files\n",
    "    print('Loading tiles from files ...')\n",
    "    for fname in tqdm(l_files):\n",
    "        # load image\n",
    "        img = cv2.imread(str(fname))\n",
    "        \n",
    "        # convert to grayscale, if not already\n",
    "        img = cv2.cvtColor(img, cv2.COLOR_BGR2GRAY)\n",
    "        \n",
    "        # given landscape mode\n",
    "        h = img.shape[0]\n",
    "        w = img.shape[1]\n",
    "        \n",
    "        #print(img.shape)\n",
    "    \n",
    "        # extract tiles as (n_height, th, n_width, tw) array\n",
    "        tiled_array = img.reshape(h // th, th, w // tw, tw)\n",
    "        \n",
    "        # reshape to (n_height x n_width, th, tw)\n",
    "        # TODO : make it with arrays\n",
    "        #tiles = []\n",
    "        for i in range(tiled_array.shape[0]):\n",
    "            for j in range(tiled_array.shape[2]):\n",
    "                #tiles.append(tiled_array[i, :, j, :])\n",
    "                l_tiles.append(tiled_array[i, :, j, :])\n",
    "        \n",
    "        # Get nr. of tiles per picture\n",
    "        i_tilen = (h // th) * (w // tw)\n",
    "        #l_tiles.append(tiles)\n",
    "    \n",
    "    print(f'Created tiles: {len(l_tiles)} ({len(l_tiles)//i_tilen}) ')\n",
    "    \n",
    "    # 2) Randomly shuffle tile order TOGETHER\n",
    "    print('Randomizing tile order ...\\n')\n",
    "    #idxs_shuffled = [i for i in range(len(l_tiles))]\n",
    "    #random.shuffle(idxs_shuffled)\n",
    "    #l_tiles = l_tiles[idxs_shuffled]\n",
    "    # in place\n",
    "    random.shuffle(l_tiles)\n",
    "    \n",
    "    # 3) Randomly rotate [0, 90, 180, 270] EACH tile\n",
    "    print('Randomly rotating each tile ...')\n",
    "    if tw == th:    # square\n",
    "        angles = [0, 90, 180, 270]\n",
    "    else:   # rectangle \n",
    "        angles = [0, 180]\n",
    "    # iterate through tiles & rotate\n",
    "    for i in tqdm(range(len(l_tiles))):\n",
    "        l_tiles[i] = ndimage.rotate(l_tiles[i], random.choice(angles))\n",
    "    \n",
    "    # 4) Untile -> mask w/ size of original picture\n",
    "    # Split entire list of tiles into sub-sets i_tilen-tiles\n",
    "    print('Untiling & writing to files ...')\n",
    "    for l in tqdm(range(len(l_tiles)//i_tilen)):\n",
    "        # Load subset\n",
    "        tiles = l_tiles[l*i_tilen : (l+1)*i_tilen]\n",
    "        \n",
    "        # Untile\n",
    "        untiled = np.zeros((h, w))\n",
    "        k = 0\n",
    "        for i in range(h//th):\n",
    "            for j in range(w//tw):\n",
    "                untiled[i*th:(i+1)*th, j*tw:(j+1)*tw] = tiles[k]\n",
    "                k+=1\n",
    "\n",
    "        # 5) Assign filename & write\n",
    "        fname_mask = outdir / ('mask_' + str(l_files[l]).split('/')[-1])\n",
    "        #print(fname_mask)\n",
    "        cv2.imwrite(str(fname_mask), untiled)\n",
    "    \n",
    "    print('Finished!')"
   ]
  },
  {
   "cell_type": "code",
   "execution_count": 5,
   "metadata": {},
   "outputs": [
    {
     "name": "stdout",
     "output_type": "stream",
     "text": [
      "Loading tiles from files ...\n"
     ]
    },
    {
     "name": "stderr",
     "output_type": "stream",
     "text": [
      "100%|██████████| 24/24 [00:00<00:00, 138.61it/s]"
     ]
    },
    {
     "name": "stdout",
     "output_type": "stream",
     "text": [
      "Created tiles: 82944 (24) \n",
      "Randomizing tile order ...\n",
      "\n"
     ]
    },
    {
     "name": "stderr",
     "output_type": "stream",
     "text": [
      "\n"
     ]
    },
    {
     "name": "stdout",
     "output_type": "stream",
     "text": [
      "Randomly rotating each tile ...\n"
     ]
    },
    {
     "name": "stderr",
     "output_type": "stream",
     "text": [
      "100%|██████████| 82944/82944 [00:08<00:00, 9302.72it/s]\n"
     ]
    },
    {
     "name": "stdout",
     "output_type": "stream",
     "text": [
      "Untiling & writing to files ...\n"
     ]
    },
    {
     "name": "stderr",
     "output_type": "stream",
     "text": [
      "100%|██████████| 24/24 [00:00<00:00, 94.04it/s]"
     ]
    },
    {
     "name": "stdout",
     "output_type": "stream",
     "text": [
      "Finished!\n"
     ]
    },
    {
     "name": "stderr",
     "output_type": "stream",
     "text": [
      "\n"
     ]
    }
   ],
   "source": [
    "#%% Make & write masks\n",
    "path_input = Path('stimuli_demo/target')\n",
    "l_files = list(path_input.glob('**/*.JPG'))\n",
    "\n",
    "path_out_masks = Path('stimuli_demo/masks')\n",
    "make_masks_across(l_files, 8, outdir=path_out_masks)"
   ]
  },
  {
   "cell_type": "code",
   "execution_count": 4,
   "metadata": {},
   "outputs": [
    {
     "data": {
      "text/plain": [
       "[PosixPath('stimuli_demo/target/target_office_hole-punching_frontal_1.JPG'),\n",
       " PosixPath('stimuli_demo/target/target_office_hole-punching_frontal_2.JPG'),\n",
       " PosixPath('stimuli_demo/target/target_office_hole-punching_lateral_1.JPG'),\n",
       " PosixPath('stimuli_demo/target/target_office_hole-punching_lateral_2.JPG'),\n",
       " PosixPath('stimuli_demo/target/target_office_stamping_frontal_1.JPG'),\n",
       " PosixPath('stimuli_demo/target/target_office_stamping_frontal_2.JPG'),\n",
       " PosixPath('stimuli_demo/target/target_office_stamping_lateral_1.JPG'),\n",
       " PosixPath('stimuli_demo/target/target_office_stamping_lateral_2.JPG'),\n",
       " PosixPath('stimuli_demo/target/target_office_stapling_frontal_1.JPG'),\n",
       " PosixPath('stimuli_demo/target/target_office_stapling_frontal_2.JPG'),\n",
       " PosixPath('stimuli_demo/target/target_office_stapling_lateral_1.JPG'),\n",
       " PosixPath('stimuli_demo/target/target_office_stapling_lateral_2.JPG'),\n",
       " PosixPath('stimuli_demo/target/target_workshop_hammering_frontal_1.JPG'),\n",
       " PosixPath('stimuli_demo/target/target_workshop_hammering_frontal_2.JPG'),\n",
       " PosixPath('stimuli_demo/target/target_workshop_hammering_lateral_1.JPG'),\n",
       " PosixPath('stimuli_demo/target/target_workshop_hammering_lateral_2.JPG'),\n",
       " PosixPath('stimuli_demo/target/target_workshop_painting_frontal_1.JPG'),\n",
       " PosixPath('stimuli_demo/target/target_workshop_painting_frontal_2.JPG'),\n",
       " PosixPath('stimuli_demo/target/target_workshop_painting_lateral_1.JPG'),\n",
       " PosixPath('stimuli_demo/target/target_workshop_painting_lateral_2.JPG'),\n",
       " PosixPath('stimuli_demo/target/target_workshop_sawing_frontal_1.JPG'),\n",
       " PosixPath('stimuli_demo/target/target_workshop_sawing_frontal_2.JPG'),\n",
       " PosixPath('stimuli_demo/target/target_workshop_sawing_lateral_1.JPG'),\n",
       " PosixPath('stimuli_demo/target/target_workshop_sawing_lateral_2.JPG')]"
      ]
     },
     "execution_count": 4,
     "metadata": {},
     "output_type": "execute_result"
    }
   ],
   "source": [
    "l_files"
   ]
  },
  {
   "cell_type": "code",
   "execution_count": null,
   "metadata": {},
   "outputs": [],
   "source": []
  }
 ],
 "metadata": {
  "kernelspec": {
   "display_name": "Python 3.9.7 ('ffmpeg')",
   "language": "python",
   "name": "python3"
  },
  "language_info": {
   "codemirror_mode": {
    "name": "ipython",
    "version": 3
   },
   "file_extension": ".py",
   "mimetype": "text/x-python",
   "name": "python",
   "nbconvert_exporter": "python",
   "pygments_lexer": "ipython3",
   "version": "3.9.7"
  },
  "orig_nbformat": 4,
  "vscode": {
   "interpreter": {
    "hash": "7dc0bab17ea4a7f8f4d139c29dd1da99fcb46aceef9ce09aff4210e32dbd11d7"
   }
  }
 },
 "nbformat": 4,
 "nbformat_minor": 2
}
